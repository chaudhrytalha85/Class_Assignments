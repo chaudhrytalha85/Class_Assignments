{
 "cells": [
  {
   "cell_type": "code",
   "execution_count": 13,
   "metadata": {},
   "outputs": [],
   "source": [
    "import pandas as pd\n",
    "import surprise\n",
    "from surprise.prediction_algorithms import SVDpp\n",
    "\n",
    "# Load the required modules"
   ]
  },
  {
   "cell_type": "code",
   "execution_count": 8,
   "metadata": {},
   "outputs": [],
   "source": [
    "filepath = '../data/data-full.txt' # enter file path here, this recommender is desinged for that particular dataset"
   ]
  },
  {
   "cell_type": "code",
   "execution_count": 9,
   "metadata": {},
   "outputs": [],
   "source": [
    "def process_data(filepath):\n",
    "    \n",
    "    ratings = pd.read_csv(filepath, header = None, names =['MovieID', 'UserID', 'Rating'])\n",
    "    \n",
    "    min_movie_ratings = 50\n",
    "    filter_movies = ratings['MovieID'].value_counts() > min_movie_ratings\n",
    "    filter_movies = filter_movies[filter_movies].index.tolist()\n",
    "\n",
    "    min_user_ratings = 6\n",
    "    filter_users = ratings['UserID'].value_counts() > min_user_ratings\n",
    "    filter_users = filter_users[filter_users].index.tolist()\n",
    "\n",
    "    processed_data = ratings[(ratings['MovieID'].isin(filter_movies)) & (ratings['UserID'].isin(filter_users))]\n",
    "    \n",
    "    return processed_data\n",
    "\n",
    "# this function reads the data into a pandas dataframe, then removes movies with less than 50 over all ratings, and\n",
    "# users that have given less than 6 ratings"
   ]
  },
  {
   "cell_type": "code",
   "execution_count": 10,
   "metadata": {},
   "outputs": [],
   "source": [
    "data = process_data(filepath)"
   ]
  },
  {
   "cell_type": "code",
   "execution_count": 11,
   "metadata": {},
   "outputs": [],
   "source": [
    "def load_data(data):\n",
    "    reader = surprise.Reader(rating_scale = (1,5))\n",
    "    new_data = surprise.Dataset.load_from_df(data[['UserID', 'MovieID', 'Rating']], reader)\n",
    "    \n",
    "    return new_data\n",
    "\n",
    "# now load the data into a surprise dataframe"
   ]
  },
  {
   "cell_type": "code",
   "execution_count": 12,
   "metadata": {},
   "outputs": [],
   "source": [
    "new_data = load_data(data)"
   ]
  },
  {
   "cell_type": "code",
   "execution_count": 14,
   "metadata": {},
   "outputs": [
    {
     "data": {
      "text/plain": [
       "<surprise.prediction_algorithms.matrix_factorization.SVDpp at 0x11ddb7780>"
      ]
     },
     "execution_count": 14,
     "metadata": {},
     "output_type": "execute_result"
    }
   ],
   "source": [
    "alg = SVDpp()\n",
    "alg.fit(new_data.build_full_trainset())\n",
    "\n",
    "# fit using the SVDpp, which is a probablistic matrix factorization algorithm, made famous by the Netflix competition\n",
    "# winning team"
   ]
  },
  {
   "cell_type": "code",
   "execution_count": 44,
   "metadata": {},
   "outputs": [],
   "source": [
    "def movie_recommend(user_id, movie_id):\n",
    "    pred_rating = alg.predict(iid = str(movie_id), uid = str(user_id)).est\n",
    "    return ('Recommend this movie to the user, with predicted rating ' + str(round(pred_rating)) if (pred_rating > 2.5)\n",
    "            else 'Not Recommend this movie to the user. Predicted rating is ' + str(round(pred_rating)))\n",
    "\n",
    "# Recommendation function"
   ]
  },
  {
   "cell_type": "code",
   "execution_count": 50,
   "metadata": {},
   "outputs": [
    {
     "data": {
      "text/plain": [
       "'Recommend this movie to the user, with predicted rating 3.0'"
      ]
     },
     "execution_count": 50,
     "metadata": {},
     "output_type": "execute_result"
    }
   ],
   "source": [
    "movie_recommend(15582, 48)"
   ]
  },
  {
   "cell_type": "code",
   "execution_count": null,
   "metadata": {},
   "outputs": [],
   "source": []
  }
 ],
 "metadata": {
  "kernelspec": {
   "display_name": "Python 3",
   "language": "python",
   "name": "python3"
  },
  "language_info": {
   "codemirror_mode": {
    "name": "ipython",
    "version": 3
   },
   "file_extension": ".py",
   "mimetype": "text/x-python",
   "name": "python",
   "nbconvert_exporter": "python",
   "pygments_lexer": "ipython3",
   "version": "3.7.3"
  }
 },
 "nbformat": 4,
 "nbformat_minor": 4
}
