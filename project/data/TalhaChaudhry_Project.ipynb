{
 "cells": [
  {
   "cell_type": "code",
   "execution_count": 1,
   "metadata": {},
   "outputs": [],
   "source": [
    "import pandas as pd\n",
    "import surprise\n",
    "from surprise.prediction_algorithms import SVD, SVDpp, SlopeOne, NMF, NormalPredictor, KNNBaseline, KNNBasic, KNNWithMeans, KNNWithMeans, KNNWithZScore, BaselineOnly, CoClustering \n",
    "KNNWithMeans, KNNWithZScore, BaselineOnly, CoClustering\n",
    "from surprise.model_selection.validation import cross_validate\n",
    "from surprise.model_selection.split import ShuffleSplit"
   ]
  },
  {
   "cell_type": "code",
   "execution_count": 2,
   "metadata": {},
   "outputs": [],
   "source": [
    "filepath = '/Users/talhamchaudhry/Desktop/machine_learning/project/data/data-full.txt'"
   ]
  },
  {
   "cell_type": "code",
   "execution_count": 15,
   "metadata": {},
   "outputs": [],
   "source": [
    "ratings = pd.read_csv(filepath, header = None, names =['MovieID', 'UserID', 'Rating'])"
   ]
  },
  {
   "cell_type": "code",
   "execution_count": 16,
   "metadata": {},
   "outputs": [],
   "source": [
    "dirty = ratings.groupby('UserID')['Rating'].count()"
   ]
  },
  {
   "cell_type": "code",
   "execution_count": 53,
   "metadata": {},
   "outputs": [
    {
     "data": {
      "text/plain": [
       "20873"
      ]
     },
     "execution_count": 53,
     "metadata": {},
     "output_type": "execute_result"
    }
   ],
   "source": [
    "len(ratings.loc[ratings.MovieID == 15582])"
   ]
  },
  {
   "cell_type": "code",
   "execution_count": 30,
   "metadata": {},
   "outputs": [],
   "source": [
    "A = ratings.groupby('UserID')[['Rating']].count().sort_index().sort_values('Rating', ascending = False)"
   ]
  },
  {
   "cell_type": "code",
   "execution_count": 65,
   "metadata": {},
   "outputs": [
    {
     "data": {
      "text/plain": [
       "Rating    3.592898\n",
       "dtype: float64"
      ]
     },
     "execution_count": 65,
     "metadata": {},
     "output_type": "execute_result"
    }
   ],
   "source": [
    "A.std()"
   ]
  },
  {
   "cell_type": "code",
   "execution_count": 64,
   "metadata": {},
   "outputs": [
    {
     "data": {
      "text/plain": [
       "(18007, 28968, 6922, 4039)"
      ]
     },
     "execution_count": 64,
     "metadata": {},
     "output_type": "execute_result"
    }
   ],
   "source": [
    "len(A.loc[A.Rating > 6]), len(A), len(A.loc[A.Rating < 6]), len(A.loc[A.Rating == 6])"
   ]
  },
  {
   "cell_type": "code",
   "execution_count": 48,
   "metadata": {},
   "outputs": [],
   "source": [
    "B = ratings.groupby('MovieID')[['Rating']].count().sort_index().sort_values('Rating', ascending = False)"
   ]
  },
  {
   "cell_type": "code",
   "execution_count": 51,
   "metadata": {},
   "outputs": [
    {
     "data": {
      "text/html": [
       "<div>\n",
       "<style scoped>\n",
       "    .dataframe tbody tr th:only-of-type {\n",
       "        vertical-align: middle;\n",
       "    }\n",
       "\n",
       "    .dataframe tbody tr th {\n",
       "        vertical-align: top;\n",
       "    }\n",
       "\n",
       "    .dataframe thead th {\n",
       "        text-align: right;\n",
       "    }\n",
       "</style>\n",
       "<table border=\"1\" class=\"dataframe\">\n",
       "  <thead>\n",
       "    <tr style=\"text-align: right;\">\n",
       "      <th></th>\n",
       "      <th>Rating</th>\n",
       "    </tr>\n",
       "    <tr>\n",
       "      <th>MovieID</th>\n",
       "      <th></th>\n",
       "    </tr>\n",
       "  </thead>\n",
       "  <tbody>\n",
       "    <tr>\n",
       "      <th>15582</th>\n",
       "      <td>20873</td>\n",
       "    </tr>\n",
       "    <tr>\n",
       "      <th>1744</th>\n",
       "      <td>20140</td>\n",
       "    </tr>\n",
       "    <tr>\n",
       "      <th>14712</th>\n",
       "      <td>19935</td>\n",
       "    </tr>\n",
       "    <tr>\n",
       "      <th>6482</th>\n",
       "      <td>19580</td>\n",
       "    </tr>\n",
       "    <tr>\n",
       "      <th>16082</th>\n",
       "      <td>16542</td>\n",
       "    </tr>\n",
       "  </tbody>\n",
       "</table>\n",
       "</div>"
      ],
      "text/plain": [
       "         Rating\n",
       "MovieID        \n",
       "15582     20873\n",
       "1744      20140\n",
       "14712     19935\n",
       "6482      19580\n",
       "16082     16542"
      ]
     },
     "execution_count": 51,
     "metadata": {},
     "output_type": "execute_result"
    }
   ],
   "source": [
    "B.head()"
   ]
  },
  {
   "cell_type": "code",
   "execution_count": 55,
   "metadata": {},
   "outputs": [
    {
     "data": {
      "text/plain": [
       "(79, 92, 12, 1)"
      ]
     },
     "execution_count": 55,
     "metadata": {},
     "output_type": "execute_result"
    }
   ],
   "source": [
    "len(B.loc[B.Rating > 50]), len(B), len(B.loc[B.Rating < 50]), len(B.loc[B.Rating == 50])"
   ]
  },
  {
   "cell_type": "code",
   "execution_count": 67,
   "metadata": {},
   "outputs": [],
   "source": [
    "min_movie_ratings = 50\n",
    "filter_movies = ratings['MovieID'].value_counts() > min_movie_ratings\n",
    "filter_movies = filter_movies[filter_movies].index.tolist()\n",
    "\n",
    "min_user_ratings = 6\n",
    "filter_users = ratings['UserID'].value_counts() > min_user_ratings\n",
    "filter_users = filter_users[filter_users].index.tolist()\n",
    "\n",
    "new_data = ratings[(ratings['MovieID'].isin(filter_movies)) & (ratings['UserID'].isin(filter_users))]\n"
   ]
  },
  {
   "cell_type": "code",
   "execution_count": 69,
   "metadata": {},
   "outputs": [
    {
     "data": {
      "text/plain": [
       "((227773, 3), (173953, 3))"
      ]
     },
     "execution_count": 69,
     "metadata": {},
     "output_type": "execute_result"
    }
   ],
   "source": [
    "ratings.shape, new_data.shape"
   ]
  },
  {
   "cell_type": "code",
   "execution_count": null,
   "metadata": {},
   "outputs": [],
   "source": []
  },
  {
   "cell_type": "code",
   "execution_count": 70,
   "metadata": {},
   "outputs": [],
   "source": [
    "reader = surprise.Reader(rating_scale = (1,5))\n",
    "\n",
    "data = surprise.Dataset.load_from_df(new_data[['UserID', 'MovieID', 'Rating']], reader)"
   ]
  },
  {
   "cell_type": "code",
   "execution_count": 13,
   "metadata": {},
   "outputs": [],
   "source": [
    "def read_data(filepath):\n",
    "    reader = surprise.Reader(line_format='item user rating', sep=',')\n",
    "    data = surprise.Dataset.load_from_file(filepath, reader=reader)\n",
    "    return data"
   ]
  },
  {
   "cell_type": "code",
   "execution_count": 14,
   "metadata": {},
   "outputs": [],
   "source": [
    "data = read_data(filepath)"
   ]
  },
  {
   "cell_type": "code",
   "execution_count": 71,
   "metadata": {},
   "outputs": [
    {
     "name": "stdout",
     "output_type": "stream",
     "text": [
      "Estimating biases using als...\n",
      "Computing the msd similarity matrix...\n",
      "Done computing similarity matrix.\n",
      "Estimating biases using als...\n",
      "Computing the msd similarity matrix...\n",
      "Done computing similarity matrix.\n",
      "Estimating biases using als...\n",
      "Computing the msd similarity matrix...\n",
      "Done computing similarity matrix.\n",
      "Computing the msd similarity matrix...\n",
      "Done computing similarity matrix.\n",
      "Computing the msd similarity matrix...\n",
      "Done computing similarity matrix.\n",
      "Computing the msd similarity matrix...\n",
      "Done computing similarity matrix.\n",
      "Computing the msd similarity matrix...\n",
      "Done computing similarity matrix.\n",
      "Computing the msd similarity matrix...\n",
      "Done computing similarity matrix.\n",
      "Computing the msd similarity matrix...\n",
      "Done computing similarity matrix.\n",
      "Computing the msd similarity matrix...\n",
      "Done computing similarity matrix.\n",
      "Computing the msd similarity matrix...\n",
      "Done computing similarity matrix.\n",
      "Computing the msd similarity matrix...\n",
      "Done computing similarity matrix.\n",
      "Estimating biases using als...\n",
      "Estimating biases using als...\n",
      "Estimating biases using als...\n"
     ]
    },
    {
     "data": {
      "text/html": [
       "<div>\n",
       "<style scoped>\n",
       "    .dataframe tbody tr th:only-of-type {\n",
       "        vertical-align: middle;\n",
       "    }\n",
       "\n",
       "    .dataframe tbody tr th {\n",
       "        vertical-align: top;\n",
       "    }\n",
       "\n",
       "    .dataframe thead th {\n",
       "        text-align: right;\n",
       "    }\n",
       "</style>\n",
       "<table border=\"1\" class=\"dataframe\">\n",
       "  <thead>\n",
       "    <tr style=\"text-align: right;\">\n",
       "      <th></th>\n",
       "      <th>test_rmse</th>\n",
       "      <th>fit_time</th>\n",
       "      <th>test_time</th>\n",
       "    </tr>\n",
       "    <tr>\n",
       "      <th>Algorithm</th>\n",
       "      <th></th>\n",
       "      <th></th>\n",
       "      <th></th>\n",
       "    </tr>\n",
       "  </thead>\n",
       "  <tbody>\n",
       "    <tr>\n",
       "      <th>SVDpp</th>\n",
       "      <td>0.927620</td>\n",
       "      <td>29.267755</td>\n",
       "      <td>1.721748</td>\n",
       "    </tr>\n",
       "    <tr>\n",
       "      <th>KNNBaseline</th>\n",
       "      <td>0.948147</td>\n",
       "      <td>430.403608</td>\n",
       "      <td>1682.759363</td>\n",
       "    </tr>\n",
       "    <tr>\n",
       "      <th>SVD</th>\n",
       "      <td>0.951378</td>\n",
       "      <td>8.832067</td>\n",
       "      <td>0.559029</td>\n",
       "    </tr>\n",
       "    <tr>\n",
       "      <th>BaselineOnly</th>\n",
       "      <td>0.957022</td>\n",
       "      <td>0.471925</td>\n",
       "      <td>0.617264</td>\n",
       "    </tr>\n",
       "    <tr>\n",
       "      <th>SlopeOne</th>\n",
       "      <td>0.964403</td>\n",
       "      <td>0.344215</td>\n",
       "      <td>1.002912</td>\n",
       "    </tr>\n",
       "    <tr>\n",
       "      <th>KNNWithMeans</th>\n",
       "      <td>0.969850</td>\n",
       "      <td>1884.102244</td>\n",
       "      <td>2437.623297</td>\n",
       "    </tr>\n",
       "    <tr>\n",
       "      <th>KNNBasic</th>\n",
       "      <td>0.976141</td>\n",
       "      <td>1910.221437</td>\n",
       "      <td>1156.325238</td>\n",
       "    </tr>\n",
       "    <tr>\n",
       "      <th>KNNWithZScore</th>\n",
       "      <td>0.976633</td>\n",
       "      <td>366.580873</td>\n",
       "      <td>2356.710875</td>\n",
       "    </tr>\n",
       "    <tr>\n",
       "      <th>CoClustering</th>\n",
       "      <td>1.023488</td>\n",
       "      <td>5.279346</td>\n",
       "      <td>0.501341</td>\n",
       "    </tr>\n",
       "    <tr>\n",
       "      <th>NMF</th>\n",
       "      <td>1.046704</td>\n",
       "      <td>9.923257</td>\n",
       "      <td>0.547288</td>\n",
       "    </tr>\n",
       "    <tr>\n",
       "      <th>NormalPredictor</th>\n",
       "      <td>1.434464</td>\n",
       "      <td>0.238611</td>\n",
       "      <td>0.539620</td>\n",
       "    </tr>\n",
       "  </tbody>\n",
       "</table>\n",
       "</div>"
      ],
      "text/plain": [
       "                 test_rmse     fit_time    test_time\n",
       "Algorithm                                           \n",
       "SVDpp             0.927620    29.267755     1.721748\n",
       "KNNBaseline       0.948147   430.403608  1682.759363\n",
       "SVD               0.951378     8.832067     0.559029\n",
       "BaselineOnly      0.957022     0.471925     0.617264\n",
       "SlopeOne          0.964403     0.344215     1.002912\n",
       "KNNWithMeans      0.969850  1884.102244  2437.623297\n",
       "KNNBasic          0.976141  1910.221437  1156.325238\n",
       "KNNWithZScore     0.976633   366.580873  2356.710875\n",
       "CoClustering      1.023488     5.279346     0.501341\n",
       "NMF               1.046704     9.923257     0.547288\n",
       "NormalPredictor   1.434464     0.238611     0.539620"
      ]
     },
     "execution_count": 71,
     "metadata": {},
     "output_type": "execute_result"
    }
   ],
   "source": [
    "benchmark = []\n",
    "for algorithm in [SVD(), SVDpp(), SlopeOne(), NMF(), NormalPredictor(), KNNBaseline(), KNNBasic(), KNNWithMeans(),\n",
    "                 KNNWithZScore(), BaselineOnly(), CoClustering()]:\n",
    "    results = cross_validate(algorithm, data, measures = ['RMSE'], cv = 3, verbose = False)\n",
    "    \n",
    "    tmp = pd.DataFrame.from_dict(results).mean(axis = 0)\n",
    "    tmp = tmp.append(pd.Series([str(algorithm).split(' ')[0].split('.')[-1]], index = ['Algorithm']))\n",
    "    benchmark.append(tmp)\n",
    "\n",
    "pd.DataFrame(benchmark).set_index('Algorithm').sort_values('test_rmse')"
   ]
  },
  {
   "cell_type": "code",
   "execution_count": 54,
   "metadata": {},
   "outputs": [
    {
     "ename": "NameError",
     "evalue": "name 'filepath2' is not defined",
     "output_type": "error",
     "traceback": [
      "\u001b[0;31m---------------------------------------------------------------------------\u001b[0m",
      "\u001b[0;31mNameError\u001b[0m                                 Traceback (most recent call last)",
      "\u001b[0;32m<ipython-input-54-76a6cf6aa9e5>\u001b[0m in \u001b[0;36m<module>\u001b[0;34m\u001b[0m\n\u001b[1;32m      1\u001b[0m \u001b[0;32mimport\u001b[0m \u001b[0mchardet\u001b[0m\u001b[0;34m\u001b[0m\u001b[0;34m\u001b[0m\u001b[0m\n\u001b[0;32m----> 2\u001b[0;31m \u001b[0mrawdata\u001b[0m \u001b[0;34m=\u001b[0m \u001b[0mopen\u001b[0m\u001b[0;34m(\u001b[0m\u001b[0mfilepath2\u001b[0m\u001b[0;34m,\u001b[0m \u001b[0;34m'rb'\u001b[0m\u001b[0;34m)\u001b[0m\u001b[0;34m.\u001b[0m\u001b[0mread\u001b[0m\u001b[0;34m(\u001b[0m\u001b[0;34m)\u001b[0m\u001b[0;34m\u001b[0m\u001b[0;34m\u001b[0m\u001b[0m\n\u001b[0m\u001b[1;32m      3\u001b[0m \u001b[0mresult\u001b[0m \u001b[0;34m=\u001b[0m \u001b[0mchardet\u001b[0m\u001b[0;34m.\u001b[0m\u001b[0mdetect\u001b[0m\u001b[0;34m(\u001b[0m\u001b[0mrawdata\u001b[0m\u001b[0;34m)\u001b[0m\u001b[0;34m\u001b[0m\u001b[0;34m\u001b[0m\u001b[0m\n\u001b[1;32m      4\u001b[0m \u001b[0mcharenc\u001b[0m \u001b[0;34m=\u001b[0m \u001b[0mresult\u001b[0m\u001b[0;34m[\u001b[0m\u001b[0;34m'encoding'\u001b[0m\u001b[0;34m]\u001b[0m\u001b[0;34m\u001b[0m\u001b[0;34m\u001b[0m\u001b[0m\n",
      "\u001b[0;31mNameError\u001b[0m: name 'filepath2' is not defined"
     ]
    }
   ],
   "source": [
    "import chardet    \n",
    "rawdata = open(filepath2, 'rb').read()\n",
    "result = chardet.detect(rawdata)\n",
    "charenc = result['encoding']"
   ]
  },
  {
   "cell_type": "code",
   "execution_count": 37,
   "metadata": {},
   "outputs": [
    {
     "data": {
      "text/plain": [
       "'ISO-8859-1'"
      ]
     },
     "execution_count": 37,
     "metadata": {},
     "output_type": "execute_result"
    }
   ],
   "source": [
    "charenc"
   ]
  },
  {
   "cell_type": "code",
   "execution_count": 38,
   "metadata": {},
   "outputs": [],
   "source": [
    "movies = pd.read_csv(filepath2, header = None, names =['MovieID', 'YearOfRelease', 'Title'], index_col=False, encoding = charenc)"
   ]
  },
  {
   "cell_type": "code",
   "execution_count": 45,
   "metadata": {},
   "outputs": [
    {
     "data": {
      "text/html": [
       "<div>\n",
       "<style scoped>\n",
       "    .dataframe tbody tr th:only-of-type {\n",
       "        vertical-align: middle;\n",
       "    }\n",
       "\n",
       "    .dataframe tbody tr th {\n",
       "        vertical-align: top;\n",
       "    }\n",
       "\n",
       "    .dataframe thead th {\n",
       "        text-align: right;\n",
       "    }\n",
       "</style>\n",
       "<table border=\"1\" class=\"dataframe\">\n",
       "  <thead>\n",
       "    <tr style=\"text-align: right;\">\n",
       "      <th></th>\n",
       "      <th>MovieID</th>\n",
       "      <th>YearOfRelease</th>\n",
       "      <th>Title</th>\n",
       "    </tr>\n",
       "  </thead>\n",
       "  <tbody>\n",
       "    <tr>\n",
       "      <th>10084</th>\n",
       "      <td>10085</td>\n",
       "      <td>2002.0</td>\n",
       "      <td>Zus &amp; Zo</td>\n",
       "    </tr>\n",
       "    <tr>\n",
       "      <th>6766</th>\n",
       "      <td>6767</td>\n",
       "      <td>1988.0</td>\n",
       "      <td>Dead Heat</td>\n",
       "    </tr>\n",
       "    <tr>\n",
       "      <th>15990</th>\n",
       "      <td>15991</td>\n",
       "      <td>1997.0</td>\n",
       "      <td>Wilde</td>\n",
       "    </tr>\n",
       "    <tr>\n",
       "      <th>2796</th>\n",
       "      <td>2797</td>\n",
       "      <td>2003.0</td>\n",
       "      <td>Life of Buddha</td>\n",
       "    </tr>\n",
       "  </tbody>\n",
       "</table>\n",
       "</div>"
      ],
      "text/plain": [
       "       MovieID  YearOfRelease           Title\n",
       "10084    10085         2002.0        Zus & Zo\n",
       "6766      6767         1988.0       Dead Heat\n",
       "15990    15991         1997.0           Wilde\n",
       "2796      2797         2003.0  Life of Buddha"
      ]
     },
     "execution_count": 45,
     "metadata": {},
     "output_type": "execute_result"
    }
   ],
   "source": [
    "movies.sample(4)"
   ]
  },
  {
   "cell_type": "code",
   "execution_count": 46,
   "metadata": {},
   "outputs": [],
   "source": [
    "def check_null(data):\n",
    "    return data.isnull().sum()"
   ]
  },
  {
   "cell_type": "code",
   "execution_count": 47,
   "metadata": {},
   "outputs": [
    {
     "data": {
      "text/plain": [
       "MovieID          0\n",
       "YearOfRelease    7\n",
       "Title            0\n",
       "dtype: int64"
      ]
     },
     "execution_count": 47,
     "metadata": {},
     "output_type": "execute_result"
    }
   ],
   "source": [
    "check_null(movies)"
   ]
  },
  {
   "cell_type": "code",
   "execution_count": 40,
   "metadata": {},
   "outputs": [],
   "source": [
    "cond = movies.YearOfRelease.isnull()"
   ]
  },
  {
   "cell_type": "code",
   "execution_count": 49,
   "metadata": {},
   "outputs": [
    {
     "data": {
      "text/html": [
       "<div>\n",
       "<style scoped>\n",
       "    .dataframe tbody tr th:only-of-type {\n",
       "        vertical-align: middle;\n",
       "    }\n",
       "\n",
       "    .dataframe tbody tr th {\n",
       "        vertical-align: top;\n",
       "    }\n",
       "\n",
       "    .dataframe thead th {\n",
       "        text-align: right;\n",
       "    }\n",
       "</style>\n",
       "<table border=\"1\" class=\"dataframe\">\n",
       "  <thead>\n",
       "    <tr style=\"text-align: right;\">\n",
       "      <th></th>\n",
       "      <th>MovieID</th>\n",
       "      <th>YearOfRelease</th>\n",
       "      <th>Title</th>\n",
       "    </tr>\n",
       "  </thead>\n",
       "  <tbody>\n",
       "    <tr>\n",
       "      <th>4387</th>\n",
       "      <td>4388</td>\n",
       "      <td>NaN</td>\n",
       "      <td>Ancient Civilizations: Rome and Pompeii</td>\n",
       "    </tr>\n",
       "    <tr>\n",
       "      <th>4793</th>\n",
       "      <td>4794</td>\n",
       "      <td>NaN</td>\n",
       "      <td>Ancient Civilizations: Land of the Pharaohs</td>\n",
       "    </tr>\n",
       "    <tr>\n",
       "      <th>7240</th>\n",
       "      <td>7241</td>\n",
       "      <td>NaN</td>\n",
       "      <td>Ancient Civilizations: Athens and Greece</td>\n",
       "    </tr>\n",
       "    <tr>\n",
       "      <th>10781</th>\n",
       "      <td>10782</td>\n",
       "      <td>NaN</td>\n",
       "      <td>Roti Kapada Aur Makaan</td>\n",
       "    </tr>\n",
       "    <tr>\n",
       "      <th>15917</th>\n",
       "      <td>15918</td>\n",
       "      <td>NaN</td>\n",
       "      <td>Hote Hote Pyaar Ho Gaya</td>\n",
       "    </tr>\n",
       "    <tr>\n",
       "      <th>16677</th>\n",
       "      <td>16678</td>\n",
       "      <td>NaN</td>\n",
       "      <td>Jimmy Hollywood</td>\n",
       "    </tr>\n",
       "    <tr>\n",
       "      <th>17666</th>\n",
       "      <td>17667</td>\n",
       "      <td>NaN</td>\n",
       "      <td>Eros Dance Dhamaka</td>\n",
       "    </tr>\n",
       "  </tbody>\n",
       "</table>\n",
       "</div>"
      ],
      "text/plain": [
       "       MovieID  YearOfRelease                                        Title\n",
       "4387      4388            NaN      Ancient Civilizations: Rome and Pompeii\n",
       "4793      4794            NaN  Ancient Civilizations: Land of the Pharaohs\n",
       "7240      7241            NaN     Ancient Civilizations: Athens and Greece\n",
       "10781    10782            NaN                       Roti Kapada Aur Makaan\n",
       "15917    15918            NaN                      Hote Hote Pyaar Ho Gaya\n",
       "16677    16678            NaN                              Jimmy Hollywood\n",
       "17666    17667            NaN                           Eros Dance Dhamaka"
      ]
     },
     "execution_count": 49,
     "metadata": {},
     "output_type": "execute_result"
    }
   ],
   "source": [
    "movies.loc[cond]"
   ]
  },
  {
   "cell_type": "code",
   "execution_count": 50,
   "metadata": {},
   "outputs": [
    {
     "data": {
      "text/plain": [
       "4387    NaN\n",
       "4793    NaN\n",
       "7240    NaN\n",
       "10781   NaN\n",
       "15917   NaN\n",
       "16677   NaN\n",
       "17666   NaN\n",
       "Name: YearOfRelease, dtype: float64"
      ]
     },
     "execution_count": 50,
     "metadata": {},
     "output_type": "execute_result"
    }
   ],
   "source": [
    "movies.loc[cond]['YearOfRelease']"
   ]
  },
  {
   "cell_type": "code",
   "execution_count": 41,
   "metadata": {},
   "outputs": [],
   "source": [
    "names = movies.loc[cond].Title.tolist()"
   ]
  },
  {
   "cell_type": "code",
   "execution_count": 52,
   "metadata": {},
   "outputs": [
    {
     "data": {
      "text/plain": [
       "list"
      ]
     },
     "execution_count": 52,
     "metadata": {},
     "output_type": "execute_result"
    }
   ],
   "source": [
    "type(names)"
   ]
  },
  {
   "cell_type": "code",
   "execution_count": 53,
   "metadata": {},
   "outputs": [
    {
     "data": {
      "text/plain": [
       "['Ancient Civilizations: Rome and Pompeii',\n",
       " 'Ancient Civilizations: Land of the Pharaohs',\n",
       " 'Ancient Civilizations: Athens and Greece',\n",
       " 'Roti Kapada Aur Makaan',\n",
       " 'Hote Hote Pyaar Ho Gaya',\n",
       " 'Jimmy Hollywood',\n",
       " 'Eros Dance Dhamaka']"
      ]
     },
     "execution_count": 53,
     "metadata": {},
     "output_type": "execute_result"
    }
   ],
   "source": [
    "names"
   ]
  },
  {
   "cell_type": "code",
   "execution_count": 42,
   "metadata": {},
   "outputs": [],
   "source": [
    "year = [2001, 2001, 2001, 1974, 1999, 1994, 1999]"
   ]
  },
  {
   "cell_type": "code",
   "execution_count": 43,
   "metadata": {},
   "outputs": [],
   "source": [
    "my_dict = {n:y for n,y in zip(names, year)}"
   ]
  },
  {
   "cell_type": "code",
   "execution_count": 44,
   "metadata": {},
   "outputs": [
    {
     "data": {
      "text/plain": [
       "{'Ancient Civilizations: Rome and Pompeii': 2001,\n",
       " 'Ancient Civilizations: Land of the Pharaohs': 2001,\n",
       " 'Ancient Civilizations: Athens and Greece': 2001,\n",
       " 'Roti Kapada Aur Makaan': 1974,\n",
       " 'Hote Hote Pyaar Ho Gaya': 1999,\n",
       " 'Jimmy Hollywood': 1994,\n",
       " 'Eros Dance Dhamaka': 1999}"
      ]
     },
     "execution_count": 44,
     "metadata": {},
     "output_type": "execute_result"
    }
   ],
   "source": [
    "my_dict"
   ]
  },
  {
   "cell_type": "code",
   "execution_count": 57,
   "metadata": {},
   "outputs": [
    {
     "data": {
      "text/plain": [
       "1994"
      ]
     },
     "execution_count": 57,
     "metadata": {},
     "output_type": "execute_result"
    }
   ],
   "source": [
    "my_dict['Jimmy Hollywood']"
   ]
  },
  {
   "cell_type": "code",
   "execution_count": 45,
   "metadata": {},
   "outputs": [],
   "source": [
    "movies.YearOfRelease = movies.YearOfRelease.fillna(movies.Title.map(my_dict))"
   ]
  },
  {
   "cell_type": "code",
   "execution_count": 46,
   "metadata": {},
   "outputs": [],
   "source": [
    "movies.YearOfRelease = movies.YearOfRelease.astype(int)"
   ]
  },
  {
   "cell_type": "code",
   "execution_count": 60,
   "metadata": {},
   "outputs": [
    {
     "data": {
      "text/html": [
       "<div>\n",
       "<style scoped>\n",
       "    .dataframe tbody tr th:only-of-type {\n",
       "        vertical-align: middle;\n",
       "    }\n",
       "\n",
       "    .dataframe tbody tr th {\n",
       "        vertical-align: top;\n",
       "    }\n",
       "\n",
       "    .dataframe thead th {\n",
       "        text-align: right;\n",
       "    }\n",
       "</style>\n",
       "<table border=\"1\" class=\"dataframe\">\n",
       "  <thead>\n",
       "    <tr style=\"text-align: right;\">\n",
       "      <th></th>\n",
       "      <th>MovieID</th>\n",
       "      <th>YearOfRelease</th>\n",
       "      <th>Title</th>\n",
       "    </tr>\n",
       "  </thead>\n",
       "  <tbody>\n",
       "    <tr>\n",
       "      <th>10423</th>\n",
       "      <td>10424</td>\n",
       "      <td>1993</td>\n",
       "      <td>Carlito's Way</td>\n",
       "    </tr>\n",
       "    <tr>\n",
       "      <th>4719</th>\n",
       "      <td>4720</td>\n",
       "      <td>2003</td>\n",
       "      <td>The Work of Director Chris Cunningham</td>\n",
       "    </tr>\n",
       "    <tr>\n",
       "      <th>15019</th>\n",
       "      <td>15020</td>\n",
       "      <td>2002</td>\n",
       "      <td>Blue Vinyl</td>\n",
       "    </tr>\n",
       "    <tr>\n",
       "      <th>12175</th>\n",
       "      <td>12176</td>\n",
       "      <td>1999</td>\n",
       "      <td>The Fall and Rise of Sherlock Holmes</td>\n",
       "    </tr>\n",
       "    <tr>\n",
       "      <th>5622</th>\n",
       "      <td>5623</td>\n",
       "      <td>2003</td>\n",
       "      <td>Daredevil: Bonus Material</td>\n",
       "    </tr>\n",
       "    <tr>\n",
       "      <th>14096</th>\n",
       "      <td>14097</td>\n",
       "      <td>2003</td>\n",
       "      <td>MTV: The Real World: Hook-Ups</td>\n",
       "    </tr>\n",
       "    <tr>\n",
       "      <th>8606</th>\n",
       "      <td>8607</td>\n",
       "      <td>2003</td>\n",
       "      <td>Shakira: Live and Off the Record</td>\n",
       "    </tr>\n",
       "    <tr>\n",
       "      <th>14833</th>\n",
       "      <td>14834</td>\n",
       "      <td>1958</td>\n",
       "      <td>Leonard Bernstein's Young People's Concerts</td>\n",
       "    </tr>\n",
       "    <tr>\n",
       "      <th>13797</th>\n",
       "      <td>13798</td>\n",
       "      <td>1920</td>\n",
       "      <td>The Last of the Mohicans</td>\n",
       "    </tr>\n",
       "    <tr>\n",
       "      <th>1406</th>\n",
       "      <td>1407</td>\n",
       "      <td>1921</td>\n",
       "      <td>Orphans of the Storm</td>\n",
       "    </tr>\n",
       "  </tbody>\n",
       "</table>\n",
       "</div>"
      ],
      "text/plain": [
       "       MovieID  YearOfRelease                                        Title\n",
       "10423    10424           1993                                Carlito's Way\n",
       "4719      4720           2003        The Work of Director Chris Cunningham\n",
       "15019    15020           2002                                   Blue Vinyl\n",
       "12175    12176           1999         The Fall and Rise of Sherlock Holmes\n",
       "5622      5623           2003                    Daredevil: Bonus Material\n",
       "14096    14097           2003                MTV: The Real World: Hook-Ups\n",
       "8606      8607           2003             Shakira: Live and Off the Record\n",
       "14833    14834           1958  Leonard Bernstein's Young People's Concerts\n",
       "13797    13798           1920                     The Last of the Mohicans\n",
       "1406      1407           1921                         Orphans of the Storm"
      ]
     },
     "execution_count": 60,
     "metadata": {},
     "output_type": "execute_result"
    }
   ],
   "source": [
    "movies.sample(10)"
   ]
  },
  {
   "cell_type": "code",
   "execution_count": 61,
   "metadata": {},
   "outputs": [
    {
     "data": {
      "text/plain": [
       "(17770, 92)"
      ]
     },
     "execution_count": 61,
     "metadata": {},
     "output_type": "execute_result"
    }
   ],
   "source": [
    "len(movies.MovieID.unique()), len(ratings.MovieID.unique())"
   ]
  },
  {
   "cell_type": "code",
   "execution_count": 47,
   "metadata": {},
   "outputs": [],
   "source": [
    "complete = pd.merge(ratings, movies)"
   ]
  },
  {
   "cell_type": "code",
   "execution_count": 63,
   "metadata": {},
   "outputs": [
    {
     "data": {
      "text/plain": [
       "92"
      ]
     },
     "execution_count": 63,
     "metadata": {},
     "output_type": "execute_result"
    }
   ],
   "source": [
    "len(complete.MovieID.unique())"
   ]
  },
  {
   "cell_type": "code",
   "execution_count": 64,
   "metadata": {},
   "outputs": [
    {
     "data": {
      "text/html": [
       "<div>\n",
       "<style scoped>\n",
       "    .dataframe tbody tr th:only-of-type {\n",
       "        vertical-align: middle;\n",
       "    }\n",
       "\n",
       "    .dataframe tbody tr th {\n",
       "        vertical-align: top;\n",
       "    }\n",
       "\n",
       "    .dataframe thead th {\n",
       "        text-align: right;\n",
       "    }\n",
       "</style>\n",
       "<table border=\"1\" class=\"dataframe\">\n",
       "  <thead>\n",
       "    <tr style=\"text-align: right;\">\n",
       "      <th></th>\n",
       "      <th>MovieID</th>\n",
       "      <th>UserID</th>\n",
       "      <th>Rating</th>\n",
       "      <th>YearOfRelease</th>\n",
       "      <th>Title</th>\n",
       "    </tr>\n",
       "  </thead>\n",
       "  <tbody>\n",
       "    <tr>\n",
       "      <th>76325</th>\n",
       "      <td>3418</td>\n",
       "      <td>1482158</td>\n",
       "      <td>5.0</td>\n",
       "      <td>1993</td>\n",
       "      <td>Sister Act 2: Back in the Habit</td>\n",
       "    </tr>\n",
       "    <tr>\n",
       "      <th>204766</th>\n",
       "      <td>15582</td>\n",
       "      <td>1592816</td>\n",
       "      <td>4.0</td>\n",
       "      <td>2002</td>\n",
       "      <td>Sweet Home Alabama</td>\n",
       "    </tr>\n",
       "    <tr>\n",
       "      <th>64119</th>\n",
       "      <td>3253</td>\n",
       "      <td>2393933</td>\n",
       "      <td>3.0</td>\n",
       "      <td>1998</td>\n",
       "      <td>The Opposite of Sex</td>\n",
       "    </tr>\n",
       "    <tr>\n",
       "      <th>189786</th>\n",
       "      <td>15582</td>\n",
       "      <td>2155100</td>\n",
       "      <td>3.0</td>\n",
       "      <td>2002</td>\n",
       "      <td>Sweet Home Alabama</td>\n",
       "    </tr>\n",
       "    <tr>\n",
       "      <th>139976</th>\n",
       "      <td>11688</td>\n",
       "      <td>2036838</td>\n",
       "      <td>5.0</td>\n",
       "      <td>1957</td>\n",
       "      <td>Heaven Knows</td>\n",
       "    </tr>\n",
       "    <tr>\n",
       "      <th>193851</th>\n",
       "      <td>15582</td>\n",
       "      <td>204568</td>\n",
       "      <td>3.0</td>\n",
       "      <td>2002</td>\n",
       "      <td>Sweet Home Alabama</td>\n",
       "    </tr>\n",
       "    <tr>\n",
       "      <th>72456</th>\n",
       "      <td>3418</td>\n",
       "      <td>2522960</td>\n",
       "      <td>5.0</td>\n",
       "      <td>1993</td>\n",
       "      <td>Sister Act 2: Back in the Habit</td>\n",
       "    </tr>\n",
       "    <tr>\n",
       "      <th>15192</th>\n",
       "      <td>305</td>\n",
       "      <td>156782</td>\n",
       "      <td>5.0</td>\n",
       "      <td>1996</td>\n",
       "      <td>Jack</td>\n",
       "    </tr>\n",
       "    <tr>\n",
       "      <th>151307</th>\n",
       "      <td>13927</td>\n",
       "      <td>1342407</td>\n",
       "      <td>4.0</td>\n",
       "      <td>2002</td>\n",
       "      <td>Door to Door</td>\n",
       "    </tr>\n",
       "    <tr>\n",
       "      <th>142070</th>\n",
       "      <td>12292</td>\n",
       "      <td>862592</td>\n",
       "      <td>4.0</td>\n",
       "      <td>1993</td>\n",
       "      <td>The Secret of Roan Inish</td>\n",
       "    </tr>\n",
       "    <tr>\n",
       "      <th>55950</th>\n",
       "      <td>1832</td>\n",
       "      <td>1130496</td>\n",
       "      <td>2.0</td>\n",
       "      <td>1968</td>\n",
       "      <td>Rosemary's Baby</td>\n",
       "    </tr>\n",
       "    <tr>\n",
       "      <th>130942</th>\n",
       "      <td>9087</td>\n",
       "      <td>1886175</td>\n",
       "      <td>3.0</td>\n",
       "      <td>1992</td>\n",
       "      <td>Hero</td>\n",
       "    </tr>\n",
       "    <tr>\n",
       "      <th>73082</th>\n",
       "      <td>3418</td>\n",
       "      <td>1950710</td>\n",
       "      <td>2.0</td>\n",
       "      <td>1993</td>\n",
       "      <td>Sister Act 2: Back in the Habit</td>\n",
       "    </tr>\n",
       "    <tr>\n",
       "      <th>106662</th>\n",
       "      <td>6482</td>\n",
       "      <td>2154287</td>\n",
       "      <td>3.0</td>\n",
       "      <td>1984</td>\n",
       "      <td>Gremlins</td>\n",
       "    </tr>\n",
       "    <tr>\n",
       "      <th>75435</th>\n",
       "      <td>3418</td>\n",
       "      <td>2176065</td>\n",
       "      <td>5.0</td>\n",
       "      <td>1993</td>\n",
       "      <td>Sister Act 2: Back in the Habit</td>\n",
       "    </tr>\n",
       "    <tr>\n",
       "      <th>92166</th>\n",
       "      <td>4761</td>\n",
       "      <td>2136494</td>\n",
       "      <td>4.0</td>\n",
       "      <td>1981</td>\n",
       "      <td>The Cannonball Run</td>\n",
       "    </tr>\n",
       "    <tr>\n",
       "      <th>12823</th>\n",
       "      <td>48</td>\n",
       "      <td>1583631</td>\n",
       "      <td>5.0</td>\n",
       "      <td>2001</td>\n",
       "      <td>Justice League</td>\n",
       "    </tr>\n",
       "    <tr>\n",
       "      <th>189331</th>\n",
       "      <td>15576</td>\n",
       "      <td>934606</td>\n",
       "      <td>3.0</td>\n",
       "      <td>1994</td>\n",
       "      <td>Bad Girls</td>\n",
       "    </tr>\n",
       "    <tr>\n",
       "      <th>145559</th>\n",
       "      <td>12538</td>\n",
       "      <td>428653</td>\n",
       "      <td>4.0</td>\n",
       "      <td>1985</td>\n",
       "      <td>The Black Cauldron</td>\n",
       "    </tr>\n",
       "    <tr>\n",
       "      <th>156758</th>\n",
       "      <td>14137</td>\n",
       "      <td>2233590</td>\n",
       "      <td>4.0</td>\n",
       "      <td>1995</td>\n",
       "      <td>Johnny Mnemonic</td>\n",
       "    </tr>\n",
       "  </tbody>\n",
       "</table>\n",
       "</div>"
      ],
      "text/plain": [
       "        MovieID   UserID  Rating  YearOfRelease  \\\n",
       "76325      3418  1482158     5.0           1993   \n",
       "204766    15582  1592816     4.0           2002   \n",
       "64119      3253  2393933     3.0           1998   \n",
       "189786    15582  2155100     3.0           2002   \n",
       "139976    11688  2036838     5.0           1957   \n",
       "193851    15582   204568     3.0           2002   \n",
       "72456      3418  2522960     5.0           1993   \n",
       "15192       305   156782     5.0           1996   \n",
       "151307    13927  1342407     4.0           2002   \n",
       "142070    12292   862592     4.0           1993   \n",
       "55950      1832  1130496     2.0           1968   \n",
       "130942     9087  1886175     3.0           1992   \n",
       "73082      3418  1950710     2.0           1993   \n",
       "106662     6482  2154287     3.0           1984   \n",
       "75435      3418  2176065     5.0           1993   \n",
       "92166      4761  2136494     4.0           1981   \n",
       "12823        48  1583631     5.0           2001   \n",
       "189331    15576   934606     3.0           1994   \n",
       "145559    12538   428653     4.0           1985   \n",
       "156758    14137  2233590     4.0           1995   \n",
       "\n",
       "                                  Title  \n",
       "76325   Sister Act 2: Back in the Habit  \n",
       "204766               Sweet Home Alabama  \n",
       "64119               The Opposite of Sex  \n",
       "189786               Sweet Home Alabama  \n",
       "139976                     Heaven Knows  \n",
       "193851               Sweet Home Alabama  \n",
       "72456   Sister Act 2: Back in the Habit  \n",
       "15192                              Jack  \n",
       "151307                     Door to Door  \n",
       "142070         The Secret of Roan Inish  \n",
       "55950                   Rosemary's Baby  \n",
       "130942                             Hero  \n",
       "73082   Sister Act 2: Back in the Habit  \n",
       "106662                         Gremlins  \n",
       "75435   Sister Act 2: Back in the Habit  \n",
       "92166                The Cannonball Run  \n",
       "12823                    Justice League  \n",
       "189331                        Bad Girls  \n",
       "145559               The Black Cauldron  \n",
       "156758                  Johnny Mnemonic  "
      ]
     },
     "execution_count": 64,
     "metadata": {},
     "output_type": "execute_result"
    }
   ],
   "source": [
    "complete.sample(20)"
   ]
  },
  {
   "cell_type": "code",
   "execution_count": 54,
   "metadata": {},
   "outputs": [
    {
     "ename": "TypeError",
     "evalue": "unsupported operand type(s) for &: 'list' and 'list'",
     "output_type": "error",
     "traceback": [
      "\u001b[0;31m---------------------------------------------------------------------------\u001b[0m",
      "\u001b[0;31mTypeError\u001b[0m                                 Traceback (most recent call last)",
      "\u001b[0;32m<ipython-input-54-bb6a32213972>\u001b[0m in \u001b[0;36m<module>\u001b[0;34m\u001b[0m\n\u001b[0;32m----> 1\u001b[0;31m \u001b[0mcond\u001b[0m \u001b[0;34m=\u001b[0m \u001b[0;34m[\u001b[0m\u001b[0mcomplete\u001b[0m\u001b[0;34m[\u001b[0m\u001b[0;34m'MovieID'\u001b[0m\u001b[0;34m]\u001b[0m \u001b[0;34m==\u001b[0m \u001b[0;36m15785\u001b[0m\u001b[0;34m]\u001b[0m \u001b[0;34m&\u001b[0m \u001b[0;34m[\u001b[0m\u001b[0mcomplete\u001b[0m\u001b[0;34m[\u001b[0m\u001b[0;34m'UserID'\u001b[0m\u001b[0;34m]\u001b[0m \u001b[0;34m==\u001b[0m \u001b[0;36m2136494\u001b[0m\u001b[0;34m]\u001b[0m\u001b[0;34m\u001b[0m\u001b[0;34m\u001b[0m\u001b[0m\n\u001b[0m\u001b[1;32m      2\u001b[0m \u001b[0;34m\u001b[0m\u001b[0m\n\u001b[1;32m      3\u001b[0m \u001b[0mcomplete\u001b[0m\u001b[0;34m.\u001b[0m\u001b[0mloc\u001b[0m\u001b[0;34m[\u001b[0m\u001b[0mcond\u001b[0m\u001b[0;34m]\u001b[0m\u001b[0;34m\u001b[0m\u001b[0;34m\u001b[0m\u001b[0m\n",
      "\u001b[0;31mTypeError\u001b[0m: unsupported operand type(s) for &: 'list' and 'list'"
     ]
    }
   ],
   "source": [
    "cond = [complete['MovieID'] == 15785] & [complete['UserID'] == 2136494]\n",
    "\n",
    "complete.loc[cond]"
   ]
  },
  {
   "cell_type": "code",
   "execution_count": 65,
   "metadata": {},
   "outputs": [
    {
     "data": {
      "text/plain": [
       "MovieID    0\n",
       "UserID     0\n",
       "Rating     0\n",
       "dtype: int64"
      ]
     },
     "execution_count": 65,
     "metadata": {},
     "output_type": "execute_result"
    }
   ],
   "source": [
    "check_null(ratings)"
   ]
  },
  {
   "cell_type": "code",
   "execution_count": 17,
   "metadata": {},
   "outputs": [],
   "source": [
    "ratings2 = ratings.pivot(index = 'UserID', columns = 'MovieID', values = 'Rating').fillna(0)"
   ]
  },
  {
   "cell_type": "code",
   "execution_count": 84,
   "metadata": {},
   "outputs": [
    {
     "data": {
      "text/html": [
       "<div>\n",
       "<style scoped>\n",
       "    .dataframe tbody tr th:only-of-type {\n",
       "        vertical-align: middle;\n",
       "    }\n",
       "\n",
       "    .dataframe tbody tr th {\n",
       "        vertical-align: top;\n",
       "    }\n",
       "\n",
       "    .dataframe thead th {\n",
       "        text-align: right;\n",
       "    }\n",
       "</style>\n",
       "<table border=\"1\" class=\"dataframe\">\n",
       "  <thead>\n",
       "    <tr style=\"text-align: right;\">\n",
       "      <th>MovieID</th>\n",
       "      <th>28</th>\n",
       "      <th>48</th>\n",
       "      <th>305</th>\n",
       "      <th>577</th>\n",
       "      <th>595</th>\n",
       "      <th>816</th>\n",
       "      <th>907</th>\n",
       "      <th>992</th>\n",
       "      <th>1061</th>\n",
       "      <th>1744</th>\n",
       "      <th>...</th>\n",
       "      <th>15661</th>\n",
       "      <th>15714</th>\n",
       "      <th>15726</th>\n",
       "      <th>15785</th>\n",
       "      <th>15992</th>\n",
       "      <th>16082</th>\n",
       "      <th>16576</th>\n",
       "      <th>16820</th>\n",
       "      <th>16933</th>\n",
       "      <th>17137</th>\n",
       "    </tr>\n",
       "    <tr>\n",
       "      <th>UserID</th>\n",
       "      <th></th>\n",
       "      <th></th>\n",
       "      <th></th>\n",
       "      <th></th>\n",
       "      <th></th>\n",
       "      <th></th>\n",
       "      <th></th>\n",
       "      <th></th>\n",
       "      <th></th>\n",
       "      <th></th>\n",
       "      <th></th>\n",
       "      <th></th>\n",
       "      <th></th>\n",
       "      <th></th>\n",
       "      <th></th>\n",
       "      <th></th>\n",
       "      <th></th>\n",
       "      <th></th>\n",
       "      <th></th>\n",
       "      <th></th>\n",
       "      <th></th>\n",
       "    </tr>\n",
       "  </thead>\n",
       "  <tbody>\n",
       "    <tr>\n",
       "      <th>7</th>\n",
       "      <td>4.0</td>\n",
       "      <td>0.0</td>\n",
       "      <td>0.0</td>\n",
       "      <td>0.0</td>\n",
       "      <td>0.0</td>\n",
       "      <td>0.0</td>\n",
       "      <td>0.0</td>\n",
       "      <td>0.0</td>\n",
       "      <td>0.0</td>\n",
       "      <td>0.0</td>\n",
       "      <td>...</td>\n",
       "      <td>0.0</td>\n",
       "      <td>0.0</td>\n",
       "      <td>0.0</td>\n",
       "      <td>0.0</td>\n",
       "      <td>0.0</td>\n",
       "      <td>4.0</td>\n",
       "      <td>0.0</td>\n",
       "      <td>0.0</td>\n",
       "      <td>0.0</td>\n",
       "      <td>0.0</td>\n",
       "    </tr>\n",
       "    <tr>\n",
       "      <th>79</th>\n",
       "      <td>0.0</td>\n",
       "      <td>0.0</td>\n",
       "      <td>0.0</td>\n",
       "      <td>0.0</td>\n",
       "      <td>0.0</td>\n",
       "      <td>0.0</td>\n",
       "      <td>0.0</td>\n",
       "      <td>0.0</td>\n",
       "      <td>0.0</td>\n",
       "      <td>3.0</td>\n",
       "      <td>...</td>\n",
       "      <td>0.0</td>\n",
       "      <td>0.0</td>\n",
       "      <td>0.0</td>\n",
       "      <td>0.0</td>\n",
       "      <td>0.0</td>\n",
       "      <td>4.0</td>\n",
       "      <td>0.0</td>\n",
       "      <td>0.0</td>\n",
       "      <td>0.0</td>\n",
       "      <td>0.0</td>\n",
       "    </tr>\n",
       "    <tr>\n",
       "      <th>199</th>\n",
       "      <td>0.0</td>\n",
       "      <td>0.0</td>\n",
       "      <td>0.0</td>\n",
       "      <td>0.0</td>\n",
       "      <td>0.0</td>\n",
       "      <td>0.0</td>\n",
       "      <td>0.0</td>\n",
       "      <td>0.0</td>\n",
       "      <td>0.0</td>\n",
       "      <td>3.0</td>\n",
       "      <td>...</td>\n",
       "      <td>0.0</td>\n",
       "      <td>0.0</td>\n",
       "      <td>0.0</td>\n",
       "      <td>0.0</td>\n",
       "      <td>0.0</td>\n",
       "      <td>4.0</td>\n",
       "      <td>0.0</td>\n",
       "      <td>0.0</td>\n",
       "      <td>0.0</td>\n",
       "      <td>0.0</td>\n",
       "    </tr>\n",
       "    <tr>\n",
       "      <th>481</th>\n",
       "      <td>0.0</td>\n",
       "      <td>0.0</td>\n",
       "      <td>0.0</td>\n",
       "      <td>0.0</td>\n",
       "      <td>0.0</td>\n",
       "      <td>0.0</td>\n",
       "      <td>0.0</td>\n",
       "      <td>0.0</td>\n",
       "      <td>0.0</td>\n",
       "      <td>0.0</td>\n",
       "      <td>...</td>\n",
       "      <td>0.0</td>\n",
       "      <td>0.0</td>\n",
       "      <td>0.0</td>\n",
       "      <td>0.0</td>\n",
       "      <td>0.0</td>\n",
       "      <td>5.0</td>\n",
       "      <td>0.0</td>\n",
       "      <td>0.0</td>\n",
       "      <td>0.0</td>\n",
       "      <td>0.0</td>\n",
       "    </tr>\n",
       "    <tr>\n",
       "      <th>769</th>\n",
       "      <td>0.0</td>\n",
       "      <td>0.0</td>\n",
       "      <td>0.0</td>\n",
       "      <td>0.0</td>\n",
       "      <td>0.0</td>\n",
       "      <td>0.0</td>\n",
       "      <td>3.0</td>\n",
       "      <td>0.0</td>\n",
       "      <td>0.0</td>\n",
       "      <td>4.0</td>\n",
       "      <td>...</td>\n",
       "      <td>0.0</td>\n",
       "      <td>0.0</td>\n",
       "      <td>0.0</td>\n",
       "      <td>0.0</td>\n",
       "      <td>0.0</td>\n",
       "      <td>0.0</td>\n",
       "      <td>0.0</td>\n",
       "      <td>0.0</td>\n",
       "      <td>0.0</td>\n",
       "      <td>0.0</td>\n",
       "    </tr>\n",
       "    <tr>\n",
       "      <th>906</th>\n",
       "      <td>3.0</td>\n",
       "      <td>0.0</td>\n",
       "      <td>0.0</td>\n",
       "      <td>0.0</td>\n",
       "      <td>0.0</td>\n",
       "      <td>0.0</td>\n",
       "      <td>0.0</td>\n",
       "      <td>0.0</td>\n",
       "      <td>0.0</td>\n",
       "      <td>0.0</td>\n",
       "      <td>...</td>\n",
       "      <td>0.0</td>\n",
       "      <td>0.0</td>\n",
       "      <td>0.0</td>\n",
       "      <td>0.0</td>\n",
       "      <td>0.0</td>\n",
       "      <td>0.0</td>\n",
       "      <td>0.0</td>\n",
       "      <td>0.0</td>\n",
       "      <td>0.0</td>\n",
       "      <td>0.0</td>\n",
       "    </tr>\n",
       "    <tr>\n",
       "      <th>1310</th>\n",
       "      <td>3.0</td>\n",
       "      <td>0.0</td>\n",
       "      <td>0.0</td>\n",
       "      <td>0.0</td>\n",
       "      <td>0.0</td>\n",
       "      <td>0.0</td>\n",
       "      <td>0.0</td>\n",
       "      <td>0.0</td>\n",
       "      <td>0.0</td>\n",
       "      <td>0.0</td>\n",
       "      <td>...</td>\n",
       "      <td>0.0</td>\n",
       "      <td>0.0</td>\n",
       "      <td>0.0</td>\n",
       "      <td>0.0</td>\n",
       "      <td>0.0</td>\n",
       "      <td>4.0</td>\n",
       "      <td>0.0</td>\n",
       "      <td>0.0</td>\n",
       "      <td>0.0</td>\n",
       "      <td>0.0</td>\n",
       "    </tr>\n",
       "    <tr>\n",
       "      <th>1333</th>\n",
       "      <td>2.0</td>\n",
       "      <td>0.0</td>\n",
       "      <td>0.0</td>\n",
       "      <td>0.0</td>\n",
       "      <td>0.0</td>\n",
       "      <td>0.0</td>\n",
       "      <td>0.0</td>\n",
       "      <td>0.0</td>\n",
       "      <td>0.0</td>\n",
       "      <td>3.0</td>\n",
       "      <td>...</td>\n",
       "      <td>0.0</td>\n",
       "      <td>0.0</td>\n",
       "      <td>0.0</td>\n",
       "      <td>0.0</td>\n",
       "      <td>0.0</td>\n",
       "      <td>2.0</td>\n",
       "      <td>0.0</td>\n",
       "      <td>0.0</td>\n",
       "      <td>0.0</td>\n",
       "      <td>0.0</td>\n",
       "    </tr>\n",
       "  </tbody>\n",
       "</table>\n",
       "<p>8 rows × 92 columns</p>\n",
       "</div>"
      ],
      "text/plain": [
       "MovieID  28     48     305    577    595    816    907    992    1061   1744   \\\n",
       "UserID                                                                          \n",
       "7          4.0    0.0    0.0    0.0    0.0    0.0    0.0    0.0    0.0    0.0   \n",
       "79         0.0    0.0    0.0    0.0    0.0    0.0    0.0    0.0    0.0    3.0   \n",
       "199        0.0    0.0    0.0    0.0    0.0    0.0    0.0    0.0    0.0    3.0   \n",
       "481        0.0    0.0    0.0    0.0    0.0    0.0    0.0    0.0    0.0    0.0   \n",
       "769        0.0    0.0    0.0    0.0    0.0    0.0    3.0    0.0    0.0    4.0   \n",
       "906        3.0    0.0    0.0    0.0    0.0    0.0    0.0    0.0    0.0    0.0   \n",
       "1310       3.0    0.0    0.0    0.0    0.0    0.0    0.0    0.0    0.0    0.0   \n",
       "1333       2.0    0.0    0.0    0.0    0.0    0.0    0.0    0.0    0.0    3.0   \n",
       "\n",
       "MovieID  ...  15661  15714  15726  15785  15992  16082  16576  16820  16933  \\\n",
       "UserID   ...                                                                  \n",
       "7        ...    0.0    0.0    0.0    0.0    0.0    4.0    0.0    0.0    0.0   \n",
       "79       ...    0.0    0.0    0.0    0.0    0.0    4.0    0.0    0.0    0.0   \n",
       "199      ...    0.0    0.0    0.0    0.0    0.0    4.0    0.0    0.0    0.0   \n",
       "481      ...    0.0    0.0    0.0    0.0    0.0    5.0    0.0    0.0    0.0   \n",
       "769      ...    0.0    0.0    0.0    0.0    0.0    0.0    0.0    0.0    0.0   \n",
       "906      ...    0.0    0.0    0.0    0.0    0.0    0.0    0.0    0.0    0.0   \n",
       "1310     ...    0.0    0.0    0.0    0.0    0.0    4.0    0.0    0.0    0.0   \n",
       "1333     ...    0.0    0.0    0.0    0.0    0.0    2.0    0.0    0.0    0.0   \n",
       "\n",
       "MovieID  17137  \n",
       "UserID          \n",
       "7          0.0  \n",
       "79         0.0  \n",
       "199        0.0  \n",
       "481        0.0  \n",
       "769        0.0  \n",
       "906        0.0  \n",
       "1310       0.0  \n",
       "1333       0.0  \n",
       "\n",
       "[8 rows x 92 columns]"
      ]
     },
     "execution_count": 84,
     "metadata": {},
     "output_type": "execute_result"
    }
   ],
   "source": [
    "ratings2.head(8)"
   ]
  },
  {
   "cell_type": "code",
   "execution_count": 98,
   "metadata": {},
   "outputs": [],
   "source": [
    "# from scipy.sparse import csr_matrix"
   ]
  },
  {
   "cell_type": "code",
   "execution_count": 100,
   "metadata": {},
   "outputs": [],
   "source": [
    "# sparse_mat = csr_matrix(ratings2.values)"
   ]
  },
  {
   "cell_type": "code",
   "execution_count": 4,
   "metadata": {},
   "outputs": [],
   "source": [
    "import surprise"
   ]
  },
  {
   "cell_type": "code",
   "execution_count": 5,
   "metadata": {},
   "outputs": [],
   "source": [
    "reader = surprise.Reader(line_format='item user rating', sep=',')"
   ]
  },
  {
   "cell_type": "code",
   "execution_count": 6,
   "metadata": {},
   "outputs": [],
   "source": [
    "data = surprise.Dataset.load_from_file(filepath, reader=reader)"
   ]
  },
  {
   "cell_type": "code",
   "execution_count": 7,
   "metadata": {},
   "outputs": [],
   "source": [
    "alg = surprise.SVDpp()"
   ]
  },
  {
   "cell_type": "code",
   "execution_count": 13,
   "metadata": {},
   "outputs": [
    {
     "data": {
      "text/plain": [
       "<surprise.prediction_algorithms.matrix_factorization.SVDpp at 0x11f5e0748>"
      ]
     },
     "execution_count": 13,
     "metadata": {},
     "output_type": "execute_result"
    }
   ],
   "source": [
    "alg.fit(data.build_full_trainset())"
   ]
  },
  {
   "cell_type": "code",
   "execution_count": 27,
   "metadata": {},
   "outputs": [],
   "source": [
    "import math"
   ]
  },
  {
   "cell_type": "code",
   "execution_count": 8,
   "metadata": {},
   "outputs": [
    {
     "ename": "AttributeError",
     "evalue": "'SVDpp' object has no attribute 'trainset'",
     "output_type": "error",
     "traceback": [
      "\u001b[0;31m---------------------------------------------------------------------------\u001b[0m",
      "\u001b[0;31mAttributeError\u001b[0m                            Traceback (most recent call last)",
      "\u001b[0;32m<ipython-input-8-0b33c4b701e5>\u001b[0m in \u001b[0;36m<module>\u001b[0;34m\u001b[0m\n\u001b[0;32m----> 1\u001b[0;31m \u001b[0malg\u001b[0m\u001b[0;34m.\u001b[0m\u001b[0mpredict\u001b[0m\u001b[0;34m(\u001b[0m\u001b[0miid\u001b[0m \u001b[0;34m=\u001b[0m \u001b[0;34m'202607'\u001b[0m\u001b[0;34m,\u001b[0m \u001b[0muid\u001b[0m \u001b[0;34m=\u001b[0m \u001b[0;34m'1744'\u001b[0m\u001b[0;34m)\u001b[0m\u001b[0;34m.\u001b[0m\u001b[0mest\u001b[0m\u001b[0;34m\u001b[0m\u001b[0;34m\u001b[0m\u001b[0m\n\u001b[0m",
      "\u001b[0;32m~/anaconda3/lib/python3.7/site-packages/surprise/prediction_algorithms/algo_base.py\u001b[0m in \u001b[0;36mpredict\u001b[0;34m(self, uid, iid, r_ui, clip, verbose)\u001b[0m\n\u001b[1;32m     93\u001b[0m         \u001b[0;31m# Convert raw ids to inner ids\u001b[0m\u001b[0;34m\u001b[0m\u001b[0;34m\u001b[0m\u001b[0;34m\u001b[0m\u001b[0m\n\u001b[1;32m     94\u001b[0m         \u001b[0;32mtry\u001b[0m\u001b[0;34m:\u001b[0m\u001b[0;34m\u001b[0m\u001b[0;34m\u001b[0m\u001b[0m\n\u001b[0;32m---> 95\u001b[0;31m             \u001b[0miuid\u001b[0m \u001b[0;34m=\u001b[0m \u001b[0mself\u001b[0m\u001b[0;34m.\u001b[0m\u001b[0mtrainset\u001b[0m\u001b[0;34m.\u001b[0m\u001b[0mto_inner_uid\u001b[0m\u001b[0;34m(\u001b[0m\u001b[0muid\u001b[0m\u001b[0;34m)\u001b[0m\u001b[0;34m\u001b[0m\u001b[0;34m\u001b[0m\u001b[0m\n\u001b[0m\u001b[1;32m     96\u001b[0m         \u001b[0;32mexcept\u001b[0m \u001b[0mValueError\u001b[0m\u001b[0;34m:\u001b[0m\u001b[0;34m\u001b[0m\u001b[0;34m\u001b[0m\u001b[0m\n\u001b[1;32m     97\u001b[0m             \u001b[0miuid\u001b[0m \u001b[0;34m=\u001b[0m \u001b[0;34m'UKN__'\u001b[0m \u001b[0;34m+\u001b[0m \u001b[0mstr\u001b[0m\u001b[0;34m(\u001b[0m\u001b[0muid\u001b[0m\u001b[0;34m)\u001b[0m\u001b[0;34m\u001b[0m\u001b[0;34m\u001b[0m\u001b[0m\n",
      "\u001b[0;31mAttributeError\u001b[0m: 'SVDpp' object has no attribute 'trainset'"
     ]
    }
   ],
   "source": [
    "alg.predict(iid = '202607', uid = '1744').est"
   ]
  },
  {
   "cell_type": "code",
   "execution_count": 10,
   "metadata": {},
   "outputs": [],
   "source": [
    "cond1 = ratings.MovieID == 1744\n",
    "cond2 = ratings.UserID == 202607"
   ]
  },
  {
   "cell_type": "code",
   "execution_count": 11,
   "metadata": {},
   "outputs": [
    {
     "data": {
      "text/html": [
       "<div>\n",
       "<style scoped>\n",
       "    .dataframe tbody tr th:only-of-type {\n",
       "        vertical-align: middle;\n",
       "    }\n",
       "\n",
       "    .dataframe tbody tr th {\n",
       "        vertical-align: top;\n",
       "    }\n",
       "\n",
       "    .dataframe thead th {\n",
       "        text-align: right;\n",
       "    }\n",
       "</style>\n",
       "<table border=\"1\" class=\"dataframe\">\n",
       "  <thead>\n",
       "    <tr style=\"text-align: right;\">\n",
       "      <th></th>\n",
       "      <th>MovieID</th>\n",
       "      <th>UserID</th>\n",
       "      <th>Rating</th>\n",
       "    </tr>\n",
       "  </thead>\n",
       "  <tbody>\n",
       "    <tr>\n",
       "      <th>36082</th>\n",
       "      <td>1744</td>\n",
       "      <td>202607</td>\n",
       "      <td>1.0</td>\n",
       "    </tr>\n",
       "  </tbody>\n",
       "</table>\n",
       "</div>"
      ],
      "text/plain": [
       "       MovieID  UserID  Rating\n",
       "36082     1744  202607     1.0"
      ]
     },
     "execution_count": 11,
     "metadata": {},
     "output_type": "execute_result"
    }
   ],
   "source": [
    "ratings.loc[cond1 & cond2]"
   ]
  },
  {
   "cell_type": "code",
   "execution_count": 12,
   "metadata": {},
   "outputs": [
    {
     "data": {
      "text/plain": [
       "2"
      ]
     },
     "execution_count": 12,
     "metadata": {},
     "output_type": "execute_result"
    }
   ],
   "source": [
    "round(2.50)"
   ]
  },
  {
   "cell_type": "code",
   "execution_count": 16,
   "metadata": {},
   "outputs": [],
   "source": [
    "alg2 = surprise.CoClustering()"
   ]
  },
  {
   "cell_type": "code",
   "execution_count": 17,
   "metadata": {},
   "outputs": [
    {
     "data": {
      "text/plain": [
       "<surprise.prediction_algorithms.co_clustering.CoClustering at 0x121d065c0>"
      ]
     },
     "execution_count": 17,
     "metadata": {},
     "output_type": "execute_result"
    }
   ],
   "source": [
    "alg2.fit(data.build_full_trainset())"
   ]
  },
  {
   "cell_type": "code",
   "execution_count": 20,
   "metadata": {},
   "outputs": [
    {
     "data": {
      "text/plain": [
       "3.428185079004096"
      ]
     },
     "execution_count": 20,
     "metadata": {},
     "output_type": "execute_result"
    }
   ],
   "source": [
    "alg2.predict(iid = '202607', uid = '1744').est"
   ]
  },
  {
   "cell_type": "code",
   "execution_count": 24,
   "metadata": {},
   "outputs": [],
   "source": [
    "alg3 = surprise.KNNWithMeans(k=41)"
   ]
  },
  {
   "cell_type": "code",
   "execution_count": null,
   "metadata": {},
   "outputs": [],
   "source": [
    "alg3.fit(data.build_full_trainset())"
   ]
  },
  {
   "cell_type": "code",
   "execution_count": 16,
   "metadata": {},
   "outputs": [],
   "source": [
    "from sklearn.decomposition import TruncatedSVD"
   ]
  },
  {
   "cell_type": "code",
   "execution_count": 18,
   "metadata": {},
   "outputs": [],
   "source": [
    "svd = TruncatedSVD(n_components = 1)"
   ]
  },
  {
   "cell_type": "code",
   "execution_count": 19,
   "metadata": {},
   "outputs": [
    {
     "data": {
      "text/plain": [
       "TruncatedSVD(algorithm='randomized', n_components=1, n_iter=5,\n",
       "             random_state=None, tol=0.0)"
      ]
     },
     "execution_count": 19,
     "metadata": {},
     "output_type": "execute_result"
    }
   ],
   "source": [
    "svd.fit(ratings2)"
   ]
  },
  {
   "cell_type": "code",
   "execution_count": 20,
   "metadata": {},
   "outputs": [
    {
     "data": {
      "text/plain": [
       "array([[2.71239616e-01, 3.37315141e-02, 1.37639629e-01, 3.00826331e-02,\n",
       "        6.96438168e-03, 5.81869758e-04, 3.98605791e-02, 6.70357712e-02,\n",
       "        1.09615490e-02, 4.14160832e-01, 2.11765409e-01, 5.65564164e-04,\n",
       "        2.76007730e-03, 1.75800628e-03, 5.55835015e-04, 1.52371968e-02,\n",
       "        9.40657185e-02, 7.65826949e-04, 8.30600611e-04, 2.35413450e-01,\n",
       "        6.78279243e-02, 7.96697612e-03, 3.78436188e-02, 1.37266301e-03,\n",
       "        8.35007386e-04, 1.69222199e-03, 9.22065443e-04, 2.03598183e-01,\n",
       "        1.21381629e-02, 1.44367710e-03, 1.14718275e-03, 8.85412864e-03,\n",
       "        3.12168088e-02, 1.13447821e-03, 3.65367065e-01, 6.86277345e-03,\n",
       "        7.54002995e-02, 6.75130254e-04, 3.21695802e-02, 1.53195508e-03,\n",
       "        8.22614601e-04, 2.22943395e-03, 7.58980891e-04, 3.26403726e-02,\n",
       "        5.40886992e-02, 8.08452960e-03, 3.04765005e-03, 9.65123391e-03,\n",
       "        7.37182114e-02, 4.93189807e-04, 8.99220746e-03, 8.13899765e-04,\n",
       "        1.00594448e-03, 1.11382376e-03, 2.34564780e-02, 1.62559844e-02,\n",
       "        6.19746500e-02, 7.18499145e-04, 7.25157971e-04, 4.96411831e-02,\n",
       "        1.63910182e-02, 1.17584394e-02, 9.38139525e-03, 2.89230244e-04,\n",
       "        1.01693726e-02, 1.52843913e-02, 2.54197369e-03, 6.01062865e-02,\n",
       "        1.11439931e-01, 6.73206837e-04, 6.02778219e-04, 3.49162229e-01,\n",
       "        1.77093251e-03, 1.63807715e-03, 6.27501035e-03, 1.47449664e-03,\n",
       "        1.06689538e-01, 9.29814557e-04, 7.66152695e-04, 1.74721091e-02,\n",
       "        4.50552889e-02, 3.88704797e-01, 6.24092643e-04, 1.26748491e-03,\n",
       "        9.95915719e-04, 1.85646197e-03, 4.33647048e-03, 3.29853847e-01,\n",
       "        4.55684897e-04, 7.47919560e-04, 1.49621667e-03, 1.27792267e-03]])"
      ]
     },
     "execution_count": 20,
     "metadata": {},
     "output_type": "execute_result"
    }
   ],
   "source": [
    "svd.components_"
   ]
  },
  {
   "cell_type": "code",
   "execution_count": 21,
   "metadata": {},
   "outputs": [
    {
     "ename": "AttributeError",
     "evalue": "'TruncatedSVD' object has no attribute 'predict'",
     "output_type": "error",
     "traceback": [
      "\u001b[0;31m---------------------------------------------------------------------------\u001b[0m",
      "\u001b[0;31mAttributeError\u001b[0m                            Traceback (most recent call last)",
      "\u001b[0;32m<ipython-input-21-6fbf60b0de77>\u001b[0m in \u001b[0;36m<module>\u001b[0;34m\u001b[0m\n\u001b[0;32m----> 1\u001b[0;31m \u001b[0msvd\u001b[0m\u001b[0;34m.\u001b[0m\u001b[0mpredict\u001b[0m\u001b[0;34m(\u001b[0m\u001b[0;34m)\u001b[0m\u001b[0;34m\u001b[0m\u001b[0;34m\u001b[0m\u001b[0m\n\u001b[0m",
      "\u001b[0;31mAttributeError\u001b[0m: 'TruncatedSVD' object has no attribute 'predict'"
     ]
    }
   ],
   "source": [
    "svd.predict()"
   ]
  },
  {
   "cell_type": "code",
   "execution_count": 60,
   "metadata": {},
   "outputs": [],
   "source": [
    "X = ratings.drop(columns = 'Rating')\n",
    "y = ratings.Rating"
   ]
  },
  {
   "cell_type": "code",
   "execution_count": 59,
   "metadata": {},
   "outputs": [],
   "source": [
    "from sklearn.neighbors import KNeighborsClassifier"
   ]
  },
  {
   "cell_type": "code",
   "execution_count": 26,
   "metadata": {},
   "outputs": [],
   "source": [
    "model = KNeighborsClassifier()"
   ]
  },
  {
   "cell_type": "code",
   "execution_count": 27,
   "metadata": {},
   "outputs": [
    {
     "data": {
      "text/plain": [
       "KNeighborsClassifier(algorithm='auto', leaf_size=30, metric='minkowski',\n",
       "                     metric_params=None, n_jobs=None, n_neighbors=5, p=2,\n",
       "                     weights='uniform')"
      ]
     },
     "execution_count": 27,
     "metadata": {},
     "output_type": "execute_result"
    }
   ],
   "source": [
    "model.fit(X,y)"
   ]
  },
  {
   "cell_type": "code",
   "execution_count": 33,
   "metadata": {},
   "outputs": [
    {
     "data": {
      "text/plain": [
       "array([3.])"
      ]
     },
     "execution_count": 33,
     "metadata": {},
     "output_type": "execute_result"
    }
   ],
   "source": [
    "model.predict([\n",
    "[15582, 2155100]\n",
    "])"
   ]
  },
  {
   "cell_type": "code",
   "execution_count": 62,
   "metadata": {},
   "outputs": [],
   "source": [
    "from sklearn.model_selection import cross_validate, ShuffleSplit"
   ]
  },
  {
   "cell_type": "code",
   "execution_count": 72,
   "metadata": {},
   "outputs": [
    {
     "name": "stdout",
     "output_type": "stream",
     "text": [
      "1 0.2905487751339011\n",
      "2 0.28039775221705154\n",
      "3 0.27601984370884186\n",
      "4 0.2995258582843094\n",
      "5 0.3144920537360611\n",
      "6 0.3166643252260954\n",
      "7 0.3219334445517605\n",
      "8 0.3271446132232857\n",
      "9 0.3315356923347089\n",
      "10 0.33358767231539205\n",
      "11 0.3364158398454649\n",
      "12 0.3389349372201246\n",
      "13 0.340835016243744\n",
      "14 0.34369303714110105\n",
      "15 0.3448423917815435\n",
      "16 0.3462560365264729\n",
      "17 0.3478461673544648\n",
      "18 0.34741329352884365\n",
      "19 0.34992185442093254\n",
      "20 0.35105803845816147\n",
      "21 0.35127754851172177\n",
      "22 0.3519712002809729\n",
      "23 0.3530652383879182\n",
      "24 0.3542558609184301\n",
      "25 0.3550882430415313\n",
      "26 0.35441390815699364\n",
      "27 0.35514268153481426\n",
      "28 0.35633769426639744\n",
      "29 0.35741680568970063\n",
      "30 0.35617701290719117\n",
      "31 0.35662656949688293\n",
      "32 0.35676529985073313\n",
      "33 0.35700237070857843\n",
      "34 0.3584309421371498\n",
      "35 0.35764509614540346\n",
      "36 0.3585398191237158\n",
      "37 0.35881025550970236\n",
      "38 0.3589612784265519\n",
      "39 0.3596716129598736\n",
      "40 0.36024058301870227\n",
      "41 0.3601931688471332\n",
      "42 0.3595636140135218\n",
      "43 0.3598138554745807\n",
      "44 0.36018702256563356\n",
      "45 0.3601879006058478\n",
      "46 0.3596136623057336\n",
      "47 0.36084643076652917\n",
      "48 0.36063570111511106\n",
      "49 0.3597655632627974\n"
     ]
    }
   ],
   "source": [
    "for k in range(1,50):\n",
    "    result = cross_validate(KNeighborsClassifier(n_neighbors = k), X, y, cv = ShuffleSplit(n_splits = 50))\n",
    "    print(k, result['test_score'].mean())"
   ]
  },
  {
   "cell_type": "code",
   "execution_count": 66,
   "metadata": {},
   "outputs": [],
   "source": [
    "import sklearn"
   ]
  },
  {
   "cell_type": "code",
   "execution_count": 67,
   "metadata": {},
   "outputs": [
    {
     "data": {
      "text/plain": [
       "['accuracy',\n",
       " 'adjusted_mutual_info_score',\n",
       " 'adjusted_rand_score',\n",
       " 'average_precision',\n",
       " 'balanced_accuracy',\n",
       " 'brier_score_loss',\n",
       " 'completeness_score',\n",
       " 'explained_variance',\n",
       " 'f1',\n",
       " 'f1_macro',\n",
       " 'f1_micro',\n",
       " 'f1_samples',\n",
       " 'f1_weighted',\n",
       " 'fowlkes_mallows_score',\n",
       " 'homogeneity_score',\n",
       " 'jaccard',\n",
       " 'jaccard_macro',\n",
       " 'jaccard_micro',\n",
       " 'jaccard_samples',\n",
       " 'jaccard_weighted',\n",
       " 'max_error',\n",
       " 'mutual_info_score',\n",
       " 'neg_log_loss',\n",
       " 'neg_mean_absolute_error',\n",
       " 'neg_mean_squared_error',\n",
       " 'neg_mean_squared_log_error',\n",
       " 'neg_median_absolute_error',\n",
       " 'normalized_mutual_info_score',\n",
       " 'precision',\n",
       " 'precision_macro',\n",
       " 'precision_micro',\n",
       " 'precision_samples',\n",
       " 'precision_weighted',\n",
       " 'r2',\n",
       " 'recall',\n",
       " 'recall_macro',\n",
       " 'recall_micro',\n",
       " 'recall_samples',\n",
       " 'recall_weighted',\n",
       " 'roc_auc',\n",
       " 'v_measure_score']"
      ]
     },
     "execution_count": 67,
     "metadata": {},
     "output_type": "execute_result"
    }
   ],
   "source": [
    "sorted(sklearn.metrics.SCORERS.keys())"
   ]
  },
  {
   "cell_type": "code",
   "execution_count": 70,
   "metadata": {},
   "outputs": [],
   "source": [
    "result = cross_validate(KNeighborsClassifier(n_neighbors = 5), X, y, cv = ShuffleSplit(n_splits = 50), scoring = 'accuracy')"
   ]
  },
  {
   "cell_type": "code",
   "execution_count": 71,
   "metadata": {},
   "outputs": [
    {
     "data": {
      "text/plain": [
       "{'fit_time': array([0.3298471 , 0.31258225, 0.39066386, 0.34769392, 0.27417493,\n",
       "        0.36846113, 0.3312459 , 0.33522177, 0.29969192, 0.30326915,\n",
       "        0.30570102, 0.33894086, 0.30427384, 0.29590893, 0.25264096,\n",
       "        0.32652211, 0.26898098, 0.34637499, 0.27811289, 0.34294796,\n",
       "        0.29192376, 0.317909  , 0.65603805, 0.7681973 , 0.37565899,\n",
       "        0.71208692, 0.29312491, 0.262995  , 0.37165022, 0.28681111,\n",
       "        0.27589488, 0.27367783, 0.27441406, 0.32784796, 0.34334016,\n",
       "        0.31668615, 0.35512495, 0.24490428, 0.27758408, 0.27634597,\n",
       "        0.23927999, 0.75293803, 0.30461597, 0.93515015, 0.58625913,\n",
       "        0.37392116, 0.28459787, 0.32419014, 0.28401399, 0.29986405]),\n",
       " 'score_time': array([0.93300605, 0.89949703, 0.96154094, 1.05211902, 0.88699698,\n",
       "        0.86634207, 0.90083289, 0.83103204, 0.82438803, 0.82265711,\n",
       "        0.9348309 , 0.88665199, 0.82301593, 0.81160593, 0.81518388,\n",
       "        0.80009079, 0.8190999 , 0.82613301, 0.84302282, 0.83394504,\n",
       "        0.90330195, 0.85633421, 1.36980796, 1.16526103, 1.11168838,\n",
       "        0.9138093 , 0.86493802, 0.8295939 , 0.99056697, 0.83864784,\n",
       "        0.83371115, 0.83202505, 0.82707191, 0.8208313 , 0.90072489,\n",
       "        0.87949896, 0.81884098, 0.83252978, 0.82703996, 0.80776191,\n",
       "        1.44279504, 1.22053814, 1.89428926, 2.18773103, 1.47572398,\n",
       "        1.00179291, 0.82039714, 0.82386613, 0.8151741 , 0.80960393]),\n",
       " 'test_score': array([0.31512863, 0.31578716, 0.31324085, 0.31780666, 0.31622618,\n",
       "        0.31859689, 0.3099921 , 0.3144262 , 0.31495302, 0.31635789,\n",
       "        0.3165774 , 0.31398718, 0.31258232, 0.30990429, 0.31828958,\n",
       "        0.30990429, 0.31398718, 0.3143384 , 0.31635789, 0.31473351,\n",
       "        0.3143384 , 0.31078233, 0.31807007, 0.32145052, 0.3122311 ,\n",
       "        0.31618228, 0.30990429, 0.31201159, 0.31389938, 0.31091404,\n",
       "        0.32109931, 0.31267012, 0.31670911, 0.31807007, 0.31754324,\n",
       "        0.31890421, 0.3165335 , 0.31561156, 0.30977259, 0.31644569,\n",
       "        0.31455791, 0.32039687, 0.31631399, 0.31530424, 0.3166213 ,\n",
       "        0.31605058, 0.31043112, 0.31161647, 0.31381157, 0.3122311 ])}"
      ]
     },
     "execution_count": 71,
     "metadata": {},
     "output_type": "execute_result"
    }
   ],
   "source": [
    "result"
   ]
  },
  {
   "cell_type": "code",
   "execution_count": null,
   "metadata": {},
   "outputs": [],
   "source": []
  }
 ],
 "metadata": {
  "kernelspec": {
   "display_name": "Python 3",
   "language": "python",
   "name": "python3"
  },
  "language_info": {
   "codemirror_mode": {
    "name": "ipython",
    "version": 3
   },
   "file_extension": ".py",
   "mimetype": "text/x-python",
   "name": "python",
   "nbconvert_exporter": "python",
   "pygments_lexer": "ipython3",
   "version": "3.7.3"
  }
 },
 "nbformat": 4,
 "nbformat_minor": 4
}
