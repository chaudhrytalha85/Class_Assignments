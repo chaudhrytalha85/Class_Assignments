{
 "cells": [
  {
   "cell_type": "code",
   "execution_count": 65,
   "metadata": {},
   "outputs": [],
   "source": [
    "import pandas as pd\n",
    "import surprise\n",
    "from surprise.prediction_algorithms import KNNBasic\n",
    "\n",
    "# Load the required modules"
   ]
  },
  {
   "cell_type": "code",
   "execution_count": 66,
   "metadata": {},
   "outputs": [],
   "source": [
    "filepath = '../project/data/data-full.txt' # enter file path here,\n",
    "####                 this recommender is desinged for that particular dataset"
   ]
  },
  {
   "cell_type": "code",
   "execution_count": 67,
   "metadata": {},
   "outputs": [],
   "source": [
    "def load_data(filepath):\n",
    "    data = pd.read_csv(filepath, header = None, names =['MovieID', 'UserID', 'Rating'])\n",
    "    reader = surprise.Reader(rating_scale = (1,5))\n",
    "    new_data = surprise.Dataset.load_from_df(data[['UserID', 'MovieID', 'Rating']], reader)\n",
    "    \n",
    "    return new_data\n",
    "\n",
    "# now load the data into a surprise dataframe, by first creating a pandas dataframe from file"
   ]
  },
  {
   "cell_type": "code",
   "execution_count": 68,
   "metadata": {},
   "outputs": [],
   "source": [
    "new_data = load_data(filepath)"
   ]
  },
  {
   "cell_type": "code",
   "execution_count": 69,
   "metadata": {},
   "outputs": [
    {
     "name": "stdout",
     "output_type": "stream",
     "text": [
      "Estimating biases using als...\n",
      "Computing the pearson_baseline similarity matrix...\n",
      "Done computing similarity matrix.\n"
     ]
    },
    {
     "data": {
      "text/plain": [
       "<surprise.prediction_algorithms.knns.KNNBasic at 0x11ccfeb00>"
      ]
     },
     "execution_count": 69,
     "metadata": {},
     "output_type": "execute_result"
    }
   ],
   "source": [
    "sim_options = {'name': 'pearson_baseline',\n",
    "               'user_based': False}\n",
    "alg =KNNBasic(sim_options = sim_options)\n",
    "alg.fit(new_data.build_full_trainset())\n",
    "\n",
    "# fit using the KNNBasic, basic collaborative algorithm, computes similarity matrix of items based on Pearson Correlation"
   ]
  },
  {
   "cell_type": "code",
   "execution_count": 70,
   "metadata": {},
   "outputs": [],
   "source": [
    "def movie_recommend(user_id, movie_id):\n",
    "    pred_rating = alg.predict(iid = movie_id, uid = user_id).est\n",
    "    return ('Recommend this movie to the user, with predicted rating ' + str(round(pred_rating)) if (pred_rating > 2.5)\n",
    "            else 'Not Recommend this movie to the user. Predicted rating is ' + str(round(pred_rating)))\n",
    "\n",
    "# Recommendation function, give it user_id and movie_id to predict rating.\n",
    "# Recommendation based on predictied rating, recommend if predicted rating > 2.5. "
   ]
  },
  {
   "cell_type": "code",
   "execution_count": 73,
   "metadata": {},
   "outputs": [
    {
     "data": {
      "text/plain": [
       "'Not Recommend this movie to the user. Predicted rating is 1.0'"
      ]
     },
     "execution_count": 73,
     "metadata": {},
     "output_type": "execute_result"
    }
   ],
   "source": [
    "movie_recommend(user_id = 202607, movie_id = 1744)"
   ]
  },
  {
   "cell_type": "code",
   "execution_count": null,
   "metadata": {},
   "outputs": [],
   "source": []
  }
 ],
 "metadata": {
  "kernelspec": {
   "display_name": "Python 3",
   "language": "python",
   "name": "python3"
  },
  "language_info": {
   "codemirror_mode": {
    "name": "ipython",
    "version": 3
   },
   "file_extension": ".py",
   "mimetype": "text/x-python",
   "name": "python",
   "nbconvert_exporter": "python",
   "pygments_lexer": "ipython3",
   "version": "3.7.3"
  }
 },
 "nbformat": 4,
 "nbformat_minor": 4
}
